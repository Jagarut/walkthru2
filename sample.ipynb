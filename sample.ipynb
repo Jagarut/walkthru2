{
 "cells": [
  {
   "cell_type": "markdown",
   "id": "61915ebe-fcd8-4e37-8ce9-f40470941d11",
   "metadata": {},
   "source": [
    "## Walkthru sampel notebook"
   ]
  },
  {
   "cell_type": "markdown",
   "id": "ffd71853-0b75-4e54-bb56-982cde944980",
   "metadata": {},
   "source": [
    "Here is how I calculate `1+1:`"
   ]
  },
  {
   "cell_type": "code",
   "execution_count": 1,
   "id": "dac73982-4102-4b30-88da-f745f073b776",
   "metadata": {},
   "outputs": [
    {
     "data": {
      "text/plain": [
       "2"
      ]
     },
     "execution_count": 1,
     "metadata": {},
     "output_type": "execute_result"
    }
   ],
   "source": [
    "1+1"
   ]
  },
  {
   "cell_type": "code",
   "execution_count": 2,
   "id": "db3a9781-cb8d-4178-8bc5-5acfa6646f2c",
   "metadata": {},
   "outputs": [],
   "source": [
    "from numpy import *"
   ]
  },
  {
   "cell_type": "markdown",
   "id": "6af6a8e5-9305-4501-8212-9a7ae8b016bc",
   "metadata": {},
   "source": [
    "Here is how I calculate `sin`:"
   ]
  },
  {
   "cell_type": "code",
   "execution_count": 3,
   "id": "c76e34d5-7e05-4a93-8095-48bcdd82adfa",
   "metadata": {},
   "outputs": [
    {
     "data": {
      "text/plain": [
       "array([0.84147098, 1.        ])"
      ]
     },
     "execution_count": 3,
     "metadata": {},
     "output_type": "execute_result"
    }
   ],
   "source": [
    "a = array([1.0, pi/2])\n",
    "sin(a)"
   ]
  },
  {
   "cell_type": "code",
   "execution_count": null,
   "id": "edc687f5-b3f8-4d50-9d00-8ab778683bc9",
   "metadata": {},
   "outputs": [],
   "source": []
  }
 ],
 "metadata": {
  "kernelspec": {
   "display_name": "Python 3 (ipykernel)",
   "language": "python",
   "name": "python3"
  },
  "language_info": {
   "codemirror_mode": {
    "name": "ipython",
    "version": 3
   },
   "file_extension": ".py",
   "mimetype": "text/x-python",
   "name": "python",
   "nbconvert_exporter": "python",
   "pygments_lexer": "ipython3",
   "version": "3.10.14"
  }
 },
 "nbformat": 4,
 "nbformat_minor": 5
}
